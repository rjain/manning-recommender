{
 "cells": [
  {
   "cell_type": "code",
   "execution_count": 2,
   "metadata": {},
   "outputs": [],
   "source": [
    "import pandas as pd\n",
    "import matplotlib.pyplot as plt\n",
    "import seaborn as sns\n"
   ]
  },
  {
   "cell_type": "code",
   "execution_count": 3,
   "metadata": {},
   "outputs": [],
   "source": [
    "ratings = pd.read_csv('data/ratings.dat', sep='::',\n",
    "                      names=['user_id', 'movie_id', 'rating', 'rating_timestamp'],engine=\"python\"\n",
    "                      ).sort_values(\"rating_timestamp\") # sort by datetime\n"
   ]
  },
  {
   "cell_type": "code",
   "execution_count": 7,
   "metadata": {},
   "outputs": [
    {
     "name": "stdout",
     "output_type": "stream",
     "text": [
      "Number of users is  69324\n",
      "Number of movies is 36380\n"
     ]
    }
   ],
   "source": [
    "# number of users:\n",
    "num_users=len(pd.unique(ratings['user_id'])) \n",
    "print(f'Number of users is  {num_users}')\n",
    "\n",
    "# Number of movies:\n",
    "num_movies=len(pd.unique(ratings['movie_id'])) \n",
    "print(f'Number of movies is {num_movies}')\n"
   ]
  },
  {
   "cell_type": "code",
   "execution_count": 4,
   "metadata": {},
   "outputs": [
    {
     "data": {
      "text/plain": [
       "<matplotlib.axes._subplots.AxesSubplot at 0x1a317aad10>"
      ]
     },
     "execution_count": 4,
     "metadata": {},
     "output_type": "execute_result"
    },
    {
     "data": {
      "image/png": "[encoded data removed]",
      "text/plain": [
       "<Figure size 432x288 with 1 Axes>"
      ]
     },
     "metadata": {
      "needs_background": "light"
     },
     "output_type": "display_data"
    }
   ],
   "source": [
    "# ratings distribution histogram\n",
    "ratings['rating'].hist(bins=10)"
   ]
  },
  {
   "cell_type": "code",
   "execution_count": 5,
   "metadata": {},
   "outputs": [],
   "source": [
    "#ax = sns.countplot(x=\"movie_id\",data=ratings)"
   ]
  },
  {
   "cell_type": "code",
   "execution_count": 6,
   "metadata": {},
   "outputs": [
    {
     "data": {
      "image/png": "[encoded data removed]",
      "text/plain": [
       "<Figure size 432x288 with 1 Axes>"
      ]
     },
     "metadata": {
      "needs_background": "light"
     },
     "output_type": "display_data"
    }
   ],
   "source": [
    "fig, ax = plt.subplots()\n",
    "#ratings['movie_id'].value_counts().plot(ax=ax, kind='bar')\n",
    "#ratings['movie_id'].value_counts().to_frame().style.bar()"
   ]
  },
  {
   "cell_type": "markdown",
   "metadata": {},
   "source": [
    "## Movie popularity"
   ]
  },
  {
   "cell_type": "code",
   "execution_count": 5,
   "metadata": {},
   "outputs": [
    {
     "name": "stdout",
     "output_type": "stream",
     "text": [
      " \n",
      "There is no absolute definition of movie popularity\n",
      "Looking at the histogram below for movie ratings distribution we call a movie popular if it is has high\n",
      "ratings count relative to the common movies; we chose the bins beyond the peak count bin after trying different \n",
      "bin sizes (where we see seperation with low count of ratings)\n",
      "to represent popular movies;\n",
      "\n",
      "   unique_values  counts\n",
      "0        1454468    3102\n",
      "1         816692    2931\n",
      "2        8579674    2858\n",
      "3         993846    2826\n",
      "4        7286456    2742\n",
      "<bound method DataFrame.count of       unique_values  counts\n",
      "0           1454468    3102\n",
      "1            816692    2931\n",
      "2           8579674    2858\n",
      "3            993846    2826\n",
      "4           7286456    2742\n",
      "...             ...     ...\n",
      "1680        5304992     101\n",
      "1681        1623288     101\n",
      "1682         413300     101\n",
      "1683          74285     101\n",
      "1684          83907     101\n",
      "\n",
      "[1685 rows x 2 columns]>\n"
     ]
    },
    {
     "data": {
      "image/png": "[encoded data removed]",
      "text/plain": [
       "<Figure size 432x288 with 1 Axes>"
      ]
     },
     "metadata": {
      "needs_background": "light"
     },
     "output_type": "display_data"
    }
   ],
   "source": [
    "print(''' \n",
    "There is no absolute definition of movie popularity\n",
    "Looking at the histogram below for movie ratings distribution we call a movie popular if it is has high\n",
    "ratings count relative to the common movies; we chose the bins beyond the peak count bin after trying different \n",
    "bin sizes (where we see seperation with low count of ratings)\n",
    "to represent popular movies;\n",
    "''')\n",
    "# number of ratings\n",
    "counts=ratings['movie_id'].value_counts()\n",
    "df=counts.rename_axis('unique_values').reset_index(name='counts')\n",
    "\n",
    "print (df.head(5))\n",
    "#print (counts.columns.tolist())\n",
    "#for col in counts.columns:\n",
    "#    print(col)\n",
    "df['counts'].hist(bins=100)\n",
    "print(df.loc[df['counts']>100].count)\n",
    "#head(100).to_frame()0].head(5)"
   ]
  },
  {
   "cell_type": "code",
   "execution_count": 26,
   "metadata": {},
   "outputs": [
    {
     "data": {
      "text/plain": [
       "<matplotlib.axes._subplots.AxesSubplot at 0x1aa3ef4b90>"
      ]
     },
     "execution_count": 26,
     "metadata": {},
     "output_type": "execute_result"
    },
    {
     "data": {
      "image/png": "[encoded data removed]",
      "text/plain": [
       "<Figure size 432x288 with 1 Axes>"
      ]
     },
     "metadata": {
      "needs_background": "light"
     },
     "output_type": "display_data"
    }
   ],
   "source": [
    "print(''' bar plot of rating counts for movies in descending order of rating counts''')\n",
    "#counts.plot(kind='bar')\n",
    "counts.sort_values().plot(kind = 'barh')\n",
    "#df.plot(ax=ax, kind='bar')\n"
   ]
  },
  {
   "cell_type": "code",
   "execution_count": 8,
   "metadata": {},
   "outputs": [
    {
     "name": "stdout",
     "output_type": "stream",
     "text": [
      " Since movie-ids are categorical values we cannot directly apply area under\n",
      "curve of distribution to find the tail values; however we'll instead define tail as values that have <25% of the\n",
      "total observations, or <25% of distribution curve area\n",
      "\n",
      "Total rows in dataset: 888452; 75% is: 666339.0\n",
      "\n",
      "Upto tail row count: 666369; movies above tail: 2129\n",
      "\n",
      "Total long tail movies count = 34251\n"
     ]
    }
   ],
   "source": [
    "print(''' Since movie-ids are categorical values we cannot directly apply area under\n",
    "curve of distribution to find the tail values; however we'll instead define tail as values that have <25% of the\n",
    "total observations, or <25% of distribution curve area''')\n",
    "\n",
    "total_rows=ratings.shape[0]\n",
    "above_tail_rows=ratings.shape[0]*3/4\n",
    "print(f'\\nTotal rows in dataset: {ratings.shape[0]}; 75% is: {above_tail_rows}')\n",
    "\n",
    "sorted_counts=counts.sort_values(ascending=False)\n",
    "\n",
    "tot=0\n",
    "movie_count=0\n",
    "for index, row in df.iterrows():\n",
    "    tot+=row['counts']\n",
    "    if (tot>above_tail_rows):\n",
    "        break\n",
    "    movie_count=movie_count+1\n",
    " \n",
    "print(f\"\\nUpto tail row count: {tot}; movies above tail: {movie_count}\")\n",
    "\n",
    "num_tail_movies=num_movies-movie_count\n",
    "\n",
    "print(f\"\\nTotal long tail movies count = {num_tail_movies}\")\n",
    "\n",
    "#print(df['counts'].iloc[0:2000].sum())\n",
    "#sorted_counts.head(1000)\n",
    "#print(f\"Total ratings count: {ratings.count}\")"
   ]
  },
  {
   "cell_type": "code",
   "execution_count": 17,
   "metadata": {},
   "outputs": [
    {
     "data": {
      "text/plain": [
       "<matplotlib.axes._subplots.AxesSubplot at 0x1a23ee07d0>"
      ]
     },
     "execution_count": 17,
     "metadata": {},
     "output_type": "execute_result"
    },
    {
     "data": {
      "image/png": "[encoded data removed]",
      "text/plain": [
       "<Figure size 432x288 with 1 Axes>"
      ]
     },
     "metadata": {
      "needs_background": "light"
     },
     "output_type": "display_data"
    }
   ],
   "source": [
    "# build a distribution plot for clear indication of tail\n",
    "#df['counts'].plot.density()\n",
    "\n",
    "sns.kdeplot(df['counts'])"
   ]
  },
  {
   "cell_type": "code",
   "execution_count": 11,
   "metadata": {},
   "outputs": [
    {
     "name": "stdout",
     "output_type": "stream",
     "text": [
      "To look at least number of movies rated by any user, we look at the tail end:\n",
      "46753    1\n",
      "44706    1\n",
      "10617    1\n",
      "40612    1\n",
      "2047     1\n",
      "Name: user_id, dtype: int64\n",
      "\n",
      "From above least number of movies rated by any user is 1\n",
      "\n",
      " Average number of movies rated = 12.815936760717788\n"
     ]
    }
   ],
   "source": [
    "# Number of movies rated by each user can be found with value_counts function:\n",
    "print('''To look at least number of movies rated by any user, we look at the tail end:''')\n",
    "user_rate_counts=ratings['user_id'].value_counts()\n",
    "print(user_rate_counts.tail(5))\n",
    "\n",
    "print(\"\\nFrom above least number of movies rated by any user is 1\")\n",
    "\n",
    "print(f\"\\n Average number of movies rated by user = {ratings.shape[0]/user_rate_counts.shape[0]}\")\n"
   ]
  },
  {
   "cell_type": "markdown",
   "metadata": {},
   "source": [
    "### Recommender System effectiveness"
   ]
  },
  {
   "cell_type": "code",
   "execution_count": 13,
   "metadata": {},
   "outputs": [
    {
     "name": "stdout",
     "output_type": "stream",
     "text": [
      " \n",
      "If we build a content recommender system based on popular items alone it'll have limited effectiveness for the user.\n",
      "While it will still provide him/her enough interesting content based upon the crowd, it will miss out the following:\n",
      "\n",
      "1. Each user has personalized preferences which lead to non popular, niche items in addition to popular items. \n",
      "Those niche items would be completely missed\n",
      "\n",
      "2. New items do not have sufficient ratings to climb high on popularity list: these will be missed from recommendations\n",
      "till there is sufficient feedback through other users' interest, which could take long if they were kept out recommended\n",
      "items list\n",
      "\n",
      "\n"
     ]
    }
   ],
   "source": [
    "print(''' \n",
    "If we build a content recommender system based on popular items alone it'll have limited effectiveness for the user.\n",
    "While it will still provide him/her enough interesting content based upon the crowd, it will be a weak recommendation\n",
    "system aas it will miss out the following:\n",
    "\n",
    "1. Each user has personalized preferences which lead to non popular, niche items in addition to popular items. \n",
    "Those niche items would be completely missed\n",
    "\n",
    "2. New items do not have sufficient ratings to climb high on popularity list: these will be missed from recommendations\n",
    "till there is sufficient feedback through other users' interest. This could take long to build popularity as they \n",
    "would not show up in anyone's recommended items list by default\n",
    "\n",
    "''')"
   ]
  },
  {
   "cell_type": "code",
   "execution_count": 14,
   "metadata": {},
   "outputs": [
    {
     "name": "stdout",
     "output_type": "stream",
     "text": [
      "1454468    3102\n",
      "816692     2931\n",
      "8579674    2858\n",
      "993846     2826\n",
      "7286456    2742\n",
      "770828     2680\n",
      "816711     2425\n",
      "1300854    2408\n",
      "1670345    2376\n",
      "2267998    2269\n",
      "1535109    2160\n",
      "1392214    2147\n",
      "1663202    2049\n",
      "2084970    2017\n",
      "1392190    1933\n",
      "1343092    1928\n",
      "1408101    1884\n",
      "2024544    1863\n",
      "1798709    1861\n",
      "1800241    1860\n",
      "Name: movie_id, dtype: int64\n",
      "8     1\n",
      "10    2\n",
      "12    3\n",
      "25    4\n",
      "91    7\n",
      "Name: movie_id, dtype: int64\n",
      "8       1\n",
      "10      1\n",
      "12      1\n",
      "25      1\n",
      "91      3\n",
      "131     1\n",
      "417    23\n",
      "439     6\n",
      "443     1\n",
      "628     2\n",
      "Name: movie_id, dtype: int64\n"
     ]
    },
    {
     "data": {
      "text/plain": [
       "<matplotlib.axes._subplots.AxesSubplot at 0x1a23be0810>"
      ]
     },
     "execution_count": 14,
     "metadata": {},
     "output_type": "execute_result"
    },
    {
     "data": {
      "image/png": "[encoded data removed]",
      "text/plain": [
       "<Figure size 432x288 with 1 Axes>"
      ]
     },
     "metadata": {
      "needs_background": "light"
     },
     "output_type": "display_data"
    }
   ],
   "source": [
    "# Test code, not needed in the main exercise\n",
    "#sns.displot(ratings.value_count, x=\"movie_\", kind=\"kde\")\n",
    "print(ratings['movie_id'].value_counts().head(20))\n",
    "cdf=ratings['movie_id'].value_counts().sort_index().cumsum()\n",
    "print(cdf.head(5))\n",
    "cdf.plot()\n",
    "sorted_values=ratings['movie_id'].value_counts().sort_index()\n",
    "print(sorted_values.head(10))\n",
    "sorted_values.plot.line()"
   ]
  },
  {
   "cell_type": "code",
   "execution_count": null,
   "metadata": {},
   "outputs": [],
   "source": []
  }
 ],
 "metadata": {
  "kernelspec": {
   "display_name": "Python 3",
   "language": "python",
   "name": "python3"
  },
  "language_info": {
   "codemirror_mode": {
    "name": "ipython",
    "version": 3
   },
   "file_extension": ".py",
   "mimetype": "text/x-python",
   "name": "python",
   "nbconvert_exporter": "python",
   "pygments_lexer": "ipython3",
   "version": "3.7.6"
  }
 },
 "nbformat": 4,
 "nbformat_minor": 4
}
