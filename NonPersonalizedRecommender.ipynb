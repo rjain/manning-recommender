{
 "cells": [
  {
   "cell_type": "code",
   "execution_count": 1,
   "metadata": {},
   "outputs": [],
   "source": [
    "import pandas as pd\n",
    "import matplotlib.pyplot as plt\n",
    "import seaborn as sns\n"
   ]
  },
  {
   "cell_type": "code",
   "execution_count": 2,
   "metadata": {},
   "outputs": [
    {
     "data": {
      "text/html": [
       "<div>\n",
       "<style scoped>\n",
       "    .dataframe tbody tr th:only-of-type {\n",
       "        vertical-align: middle;\n",
       "    }\n",
       "\n",
       "    .dataframe tbody tr th {\n",
       "        vertical-align: top;\n",
       "    }\n",
       "\n",
       "    .dataframe thead th {\n",
       "        text-align: right;\n",
       "    }\n",
       "</style>\n",
       "<table border=\"1\" class=\"dataframe\">\n",
       "  <thead>\n",
       "    <tr style=\"text-align: right;\">\n",
       "      <th></th>\n",
       "      <th>user_id</th>\n",
       "      <th>movie_id</th>\n",
       "      <th>rating</th>\n",
       "      <th>rating_timestamp</th>\n",
       "    </tr>\n",
       "  </thead>\n",
       "  <tbody>\n",
       "    <tr>\n",
       "      <th>count</th>\n",
       "      <td>888452.000000</td>\n",
       "      <td>8.884520e+05</td>\n",
       "      <td>888452.000000</td>\n",
       "      <td>8.884520e+05</td>\n",
       "    </tr>\n",
       "    <tr>\n",
       "      <th>mean</th>\n",
       "      <td>34879.738435</td>\n",
       "      <td>2.187479e+06</td>\n",
       "      <td>7.316825</td>\n",
       "      <td>1.459300e+09</td>\n",
       "    </tr>\n",
       "    <tr>\n",
       "      <th>std</th>\n",
       "      <td>20100.224164</td>\n",
       "      <td>2.025072e+06</td>\n",
       "      <td>1.853552</td>\n",
       "      <td>6.902560e+07</td>\n",
       "    </tr>\n",
       "    <tr>\n",
       "      <th>min</th>\n",
       "      <td>1.000000</td>\n",
       "      <td>8.000000e+00</td>\n",
       "      <td>0.000000</td>\n",
       "      <td>1.362062e+09</td>\n",
       "    </tr>\n",
       "    <tr>\n",
       "      <th>25%</th>\n",
       "      <td>17775.000000</td>\n",
       "      <td>7.654430e+05</td>\n",
       "      <td>6.000000</td>\n",
       "      <td>1.396187e+09</td>\n",
       "    </tr>\n",
       "    <tr>\n",
       "      <th>50%</th>\n",
       "      <td>34764.500000</td>\n",
       "      <td>1.714206e+06</td>\n",
       "      <td>8.000000</td>\n",
       "      <td>1.450370e+09</td>\n",
       "    </tr>\n",
       "    <tr>\n",
       "      <th>75%</th>\n",
       "      <td>51869.000000</td>\n",
       "      <td>2.883512e+06</td>\n",
       "      <td>9.000000</td>\n",
       "      <td>1.513955e+09</td>\n",
       "    </tr>\n",
       "    <tr>\n",
       "      <th>max</th>\n",
       "      <td>69324.000000</td>\n",
       "      <td>1.292071e+07</td>\n",
       "      <td>10.000000</td>\n",
       "      <td>1.600911e+09</td>\n",
       "    </tr>\n",
       "  </tbody>\n",
       "</table>\n",
       "</div>"
      ],
      "text/plain": [
       "             user_id      movie_id         rating  rating_timestamp\n",
       "count  888452.000000  8.884520e+05  888452.000000      8.884520e+05\n",
       "mean    34879.738435  2.187479e+06       7.316825      1.459300e+09\n",
       "std     20100.224164  2.025072e+06       1.853552      6.902560e+07\n",
       "min         1.000000  8.000000e+00       0.000000      1.362062e+09\n",
       "25%     17775.000000  7.654430e+05       6.000000      1.396187e+09\n",
       "50%     34764.500000  1.714206e+06       8.000000      1.450370e+09\n",
       "75%     51869.000000  2.883512e+06       9.000000      1.513955e+09\n",
       "max     69324.000000  1.292071e+07      10.000000      1.600911e+09"
      ]
     },
     "execution_count": 2,
     "metadata": {},
     "output_type": "execute_result"
    }
   ],
   "source": [
    "ratings = pd.read_csv('data/ratings.dat', sep='::',\n",
    "                      names=['user_id', 'movie_id', 'rating', 'rating_timestamp'],engine=\"python\"\n",
    "                      ).sort_values(\"rating_timestamp\") # sort by datetime\n",
    "ratings.describe()"
   ]
  },
  {
   "cell_type": "code",
   "execution_count": 3,
   "metadata": {},
   "outputs": [
    {
     "data": {
      "text/html": [
       "<div>\n",
       "<style scoped>\n",
       "    .dataframe tbody tr th:only-of-type {\n",
       "        vertical-align: middle;\n",
       "    }\n",
       "\n",
       "    .dataframe tbody tr th {\n",
       "        vertical-align: top;\n",
       "    }\n",
       "\n",
       "    .dataframe thead th {\n",
       "        text-align: right;\n",
       "    }\n",
       "</style>\n",
       "<table border=\"1\" class=\"dataframe\">\n",
       "  <thead>\n",
       "    <tr style=\"text-align: right;\">\n",
       "      <th></th>\n",
       "      <th>movie_id</th>\n",
       "      <th>movie_title_year</th>\n",
       "      <th>genres</th>\n",
       "    </tr>\n",
       "  </thead>\n",
       "  <tbody>\n",
       "    <tr>\n",
       "      <th>3975</th>\n",
       "      <td>68152</td>\n",
       "      <td>$ (1971)</td>\n",
       "      <td>Comedy|Crime|Drama</td>\n",
       "    </tr>\n",
       "    <tr>\n",
       "      <th>11124</th>\n",
       "      <td>212555</td>\n",
       "      <td>$30 (1999)</td>\n",
       "      <td>Comedy|Short</td>\n",
       "    </tr>\n",
       "    <tr>\n",
       "      <th>16621</th>\n",
       "      <td>1024733</td>\n",
       "      <td>$5 a Day (2008)</td>\n",
       "      <td>Comedy|Drama</td>\n",
       "    </tr>\n",
       "    <tr>\n",
       "      <th>22588</th>\n",
       "      <td>2106284</td>\n",
       "      <td>$50K and a Call Girl: A Love Story (2014)</td>\n",
       "      <td>Action|Adventure|Comedy|Drama|Romance</td>\n",
       "    </tr>\n",
       "    <tr>\n",
       "      <th>23431</th>\n",
       "      <td>2258233</td>\n",
       "      <td>$ellebrity (2012)</td>\n",
       "      <td>Documentary</td>\n",
       "    </tr>\n",
       "    <tr>\n",
       "      <th>23837</th>\n",
       "      <td>2332503</td>\n",
       "      <td>&amp;amp;Me (2013)</td>\n",
       "      <td>Romance</td>\n",
       "    </tr>\n",
       "    <tr>\n",
       "      <th>25147</th>\n",
       "      <td>2614684</td>\n",
       "      <td>'71 (2014)</td>\n",
       "      <td>Action|Drama|Thriller|War</td>\n",
       "    </tr>\n",
       "    <tr>\n",
       "      <th>5807</th>\n",
       "      <td>85127</td>\n",
       "      <td>'A' gai wak (1983)</td>\n",
       "      <td>Action|Comedy</td>\n",
       "    </tr>\n",
       "    <tr>\n",
       "      <th>6642</th>\n",
       "      <td>92501</td>\n",
       "      <td>'A' gai wak 2 (1987)</td>\n",
       "      <td>Action|Comedy|Crime</td>\n",
       "    </tr>\n",
       "    <tr>\n",
       "      <th>5259</th>\n",
       "      <td>80310</td>\n",
       "      <td>'Breaker' Morant (1980)</td>\n",
       "      <td>Drama|History|War</td>\n",
       "    </tr>\n",
       "  </tbody>\n",
       "</table>\n",
       "</div>"
      ],
      "text/plain": [
       "       movie_id                           movie_title_year  \\\n",
       "3975      68152                                   $ (1971)   \n",
       "11124    212555                                 $30 (1999)   \n",
       "16621   1024733                            $5 a Day (2008)   \n",
       "22588   2106284  $50K and a Call Girl: A Love Story (2014)   \n",
       "23431   2258233                          $ellebrity (2012)   \n",
       "23837   2332503                             &amp;Me (2013)   \n",
       "25147   2614684                                 '71 (2014)   \n",
       "5807      85127                         'A' gai wak (1983)   \n",
       "6642      92501                       'A' gai wak 2 (1987)   \n",
       "5259      80310                    'Breaker' Morant (1980)   \n",
       "\n",
       "                                      genres  \n",
       "3975                      Comedy|Crime|Drama  \n",
       "11124                           Comedy|Short  \n",
       "16621                           Comedy|Drama  \n",
       "22588  Action|Adventure|Comedy|Drama|Romance  \n",
       "23431                            Documentary  \n",
       "23837                                Romance  \n",
       "25147              Action|Drama|Thriller|War  \n",
       "5807                           Action|Comedy  \n",
       "6642                     Action|Comedy|Crime  \n",
       "5259                       Drama|History|War  "
      ]
     },
     "execution_count": 3,
     "metadata": {},
     "output_type": "execute_result"
    }
   ],
   "source": [
    "movies = pd.read_csv('data/movies.dat', sep='::',\n",
    "                      names=['movie_id','movie_title_year','genres'],engine=\"python\"\n",
    "                      ).sort_values(\"movie_title_year\") # sort by movie title\n",
    "movies.describe()\n",
    "movies.head(10)"
   ]
  },
  {
   "cell_type": "code",
   "execution_count": null,
   "metadata": {},
   "outputs": [
    {
     "name": "stdout",
     "output_type": "stream",
     "text": [
      "Join the ratings with movies\n"
     ]
    }
   ],
   "source": [
    "print('''Join the ratings with movies''')\n",
    "movie_ratings = (ratings\n",
    "                  .set_index(\"movie_id\")\n",
    "                  .join(movies.set_index(\"movie_id\"),\n",
    "                        how=\"left\")\n",
    "                 )\n",
    "\n",
    "movie_ratings['rating_year'] = movie_ratings['rating_timestamp'].apply(lambda ts: pd.to_datetime(ts, unit='s').year)\n",
    "movie_ratings.head(5)"
   ]
  },
  {
   "cell_type": "code",
   "execution_count": null,
   "metadata": {},
   "outputs": [],
   "source": [
    "movie_ratings['rating_year'].describe()"
   ]
  },
  {
   "cell_type": "code",
   "execution_count": null,
   "metadata": {},
   "outputs": [],
   "source": [
    "print('''Separate the genres string into individual category indicators through get_dummies()''')\n",
    "\n",
    "categories = movie_ratings['genres'].str.get_dummies()\n",
    "categories.head(5)\n",
    "\n",
    "tidy_movie_ratings = (pd.concat([movie_ratings, categories], axis=1)\n",
    "                       .drop([\"rating_timestamp\"], axis=1)\n",
    "                )\n",
    "\n",
    "tidy_movie_ratings[\"production_year\"] = tidy_movie_ratings[\"movie_title_year\"].str[-5:-1]\n",
    "tidy_movie_ratings[\"movie_title\"] = tidy_movie_ratings[\"movie_title_year\"].str[:-7]\n",
    "\n",
    "tidy_movie_ratings=tidy_movie_ratings.drop([\"movie_title_year\"], axis=1)\n",
    "\n",
    "tidy_movie_ratings.reset_index(inplace=True)\n",
    "\n",
    "tidy_movie_ratings.head(2)\n"
   ]
  },
  {
   "cell_type": "code",
   "execution_count": null,
   "metadata": {},
   "outputs": [],
   "source": [
    "print('''Add a weighted popularity column for movie, which uses the following factors:\n",
    "1. # of ratings 6 or higher; 2. Year of production: higher (weak) weight to recent year if available; \n",
    "3. Year of rating; recent year get higher rating  \n",
    "Formula: popularity = (rating-5)*10 + (130-year_production)/5 + (mean(year_rating-2013))*9''')\n",
    "\n",
    "#tidy_movie_ratings[\"popularity\"]\n",
    "tidy_movie_ratings.groupby(\"movie_id\").sum().head(5)\n",
    "tidy_movie_ratings['movie_id'][tidy_movie_ratings['rating']>5].value_counts()"
   ]
  },
  {
   "cell_type": "code",
   "execution_count": null,
   "metadata": {},
   "outputs": [],
   "source": [
    "# Calculate aggregtes so we can calculate combined rating as described above\n",
    "grouped_ratings=tidy_movie_ratings.groupby(\n",
    "   ['movie_id']).agg(\n",
    "    {\n",
    "        'rating': lambda x: (x>5).sum()/10,    # conditional count\n",
    "         'rating_year': lambda x: ((x-2013).mean()*8),  # recent year gets bigger value\n",
    "         'production_year': lambda x: (x.astype(int)-1800).mean()/30  # really small weight\n",
    "    })\n",
    "\n",
    "grouped_ratings['combinedRating'] = grouped_ratings['rating']+grouped_ratings['rating_year']+grouped_ratings['production_year']\n",
    "grouped_ratings.sort_values('combinedRating',ascending=False).head(5)\n"
   ]
  },
  {
   "cell_type": "code",
   "execution_count": null,
   "metadata": {},
   "outputs": [],
   "source": [
    "grouped_ratings.describe(include='all')"
   ]
  },
  {
   "cell_type": "code",
   "execution_count": null,
   "metadata": {},
   "outputs": [],
   "source": [
    "cols_to_add = tidy_movie_ratings.columns.difference(grouped_ratings.columns)\n",
    "grouped_ratings_merged =  pd.merge(grouped_ratings, tidy_movie_ratings, \n",
    "                     left_index = True, \n",
    "                     right_on = 'movie_id', \n",
    "                     how='left',\n",
    "                     suffixes=(None,\"_y\")).sort_values('combinedRating',ascending=False).drop_duplicates(subset=['movie_id'])\n",
    "\n",
    "genre_column_names=movie_ratings['genres'].str.get_dummies().columns\n",
    "\n",
    "grouped_ratings_merged.head(5)"
   ]
  },
  {
   "cell_type": "code",
   "execution_count": null,
   "metadata": {},
   "outputs": [],
   "source": [
    "# Generate global recommendation chart:\n",
    "# movie title, year of release, Genres,  Popularity Score (proprietary score)\n",
    "global_chart=grouped_ratings_merged[[\"movie_title\",\"production_year\",\"genres\", \"combinedRating\"]].head(10)\n",
    "print(global_chart)\n",
    "global_chart.to_csv('charts/global_ratings.csv',index=False)\n",
    "#grouped_ratings_merged.columns"
   ]
  },
  {
   "cell_type": "code",
   "execution_count": null,
   "metadata": {},
   "outputs": [],
   "source": [
    "# Generate global chart for each genre\n",
    "for genre in genre_column_names:\n",
    "    genre_chart=grouped_ratings_merged[grouped_ratings_merged[genre]>0][[\"movie_title\",\"production_year\",\"genres\", \"combinedRating\"]].head(10)\n",
    "    print(genre_chart)\n",
    "    genre_chart.to_csv('charts/'+genre+'.csv',index=False)"
   ]
  },
  {
   "cell_type": "code",
   "execution_count": null,
   "metadata": {},
   "outputs": [],
   "source": [
    "print('''The above concludes the generation of chart as per the project ask. Regarding If I had more time, what would I add ? \n",
    "1. A better rating formula which will would be validated through users feedback and refined\n",
    "2. Join with other datasets that can help clarify rating\n",
    "3. Add images for each selected movie through use of IMDB or another site data for a richer experience''')"
   ]
  },
  {
   "cell_type": "code",
   "execution_count": null,
   "metadata": {},
   "outputs": [],
   "source": []
  }
 ],
 "metadata": {
  "kernelspec": {
   "display_name": "Python 3",
   "language": "python",
   "name": "python3"
  },
  "language_info": {
   "codemirror_mode": {
    "name": "ipython",
    "version": 3
   },
   "file_extension": ".py",
   "mimetype": "text/x-python",
   "name": "python",
   "nbconvert_exporter": "python",
   "pygments_lexer": "ipython3",
   "version": "3.7.6"
  }
 },
 "nbformat": 4,
 "nbformat_minor": 4
}
